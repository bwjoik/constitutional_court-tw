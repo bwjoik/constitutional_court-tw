{
 "cells": [
  {
   "cell_type": "code",
   "execution_count": 1,
   "metadata": {},
   "outputs": [],
   "source": [
    "import json\n",
    "import os\n",
    "import pandas as pd\n",
    "import numpy as np\n",
    "import csv\n",
    "main_dir = os.getcwd()"
   ]
  },
  {
   "cell_type": "code",
   "execution_count": 2,
   "metadata": {},
   "outputs": [
    {
     "name": "stdout",
     "output_type": "stream",
     "text": [
      "c:\\Users\\user\\Documents\\murder_injury\n"
     ]
    }
   ],
   "source": [
    "\n",
    "print(main_dir)\n",
    "\n",
    "\n",
    "\n",
    "target_JTITLE = [\n",
    "    \"業務過失傷害\",\n",
    "    \"過失傷害\",\n",
    "    \"過失重傷害\",\n",
    "    \"過失致死\",\n",
    "    \"傷害\",\n",
    "    \"殺人\",\n",
    "    \"傷害等\",\n",
    "    \"殺人等\",\n",
    "    \"業務過失等\",\n",
    "    \"業務過失致死等\",\n",
    "    \"過失致死等\",\n",
    "    \"過失傷害等\",\n",
    "    \"家庭暴力罪之傷害\"]\n",
    "murder_injury_JID = []\n",
    "murder_injury_JTITLE = []\n",
    "murder_injury_JFULL = []\n",
    "JTITLE_examination = []"
   ]
  },
  {
   "cell_type": "code",
   "execution_count": 3,
   "metadata": {},
   "outputs": [
    {
     "name": "stdout",
     "output_type": "stream",
     "text": [
      "c:\\Users\\user\\Documents\\murder_injury/202208_criminal_court\n"
     ]
    }
   ],
   "source": [
    "sub_folder = \"/202208_criminal_court\"\n",
    "sub_filedir = main_dir + sub_folder\n",
    "print(sub_filedir)\n",
    "\n",
    "os.chdir(sub_filedir)\n",
    "criminal_court = os.listdir()\n",
    "for i in criminal_court:\n",
    "    court_dir = sub_filedir + \"/\" + i\n",
    "    os.chdir(court_dir)\n",
    "    for file_name in os.listdir(court_dir):\n",
    "        with open(file_name, 'r', encoding = 'utf-8-sig') as j:\n",
    "            content = json.load(j)\n",
    "            JTITLE_examination.append(content[\"JTITLE\"])\n",
    "        for i in target_JTITLE:\n",
    "            if  i in content[\"JTITLE\"] : \n",
    "                murder_injury_JID.append(file_name)\n",
    "                murder_injury_JTITLE.append(content[\"JTITLE\"])\n",
    "                murder_injury_JFULL.append(content[\"JFULL\"])\n",
    "                break\n",
    "df = pd.DataFrame(list(zip(murder_injury_JID, murder_injury_JTITLE, murder_injury_JFULL)), columns=[\"JID\", \"JTITLE\", \"JFULL\"])"
   ]
  },
  {
   "cell_type": "code",
   "execution_count": 4,
   "metadata": {},
   "outputs": [],
   "source": [
    "os.chdir(main_dir)\n",
    "df.to_csv('filtered.csv',encoding='utf-8-sig')\n"
   ]
  },
  {
   "cell_type": "code",
   "execution_count": 5,
   "metadata": {},
   "outputs": [
    {
     "data": {
      "text/plain": [
       "(2891, 3)"
      ]
     },
     "execution_count": 5,
     "metadata": {},
     "output_type": "execute_result"
    }
   ],
   "source": [
    "df.shape\n"
   ]
  },
  {
   "cell_type": "code",
   "execution_count": 6,
   "metadata": {},
   "outputs": [],
   "source": [
    "print(JTITLE_examination)"
   ]
  }
 ],
 "metadata": {
  "kernelspec": {
   "display_name": "Python 3.9.13 ('base')",
   "language": "python",
   "name": "python3"
  },
  "language_info": {
   "codemirror_mode": {
    "name": "ipython",
    "version": 3
   },
   "file_extension": ".py",
   "mimetype": "text/x-python",
   "name": "python",
   "nbconvert_exporter": "python",
   "pygments_lexer": "ipython3",
   "version": "3.9.13"
  },
  "orig_nbformat": 4,
  "vscode": {
   "interpreter": {
    "hash": "a077222d77dfe082b8f1dd562ad70e458ac2ab76993a0b248ab0476e32e9e8dd"
   }
  }
 },
 "nbformat": 4,
 "nbformat_minor": 2
}
